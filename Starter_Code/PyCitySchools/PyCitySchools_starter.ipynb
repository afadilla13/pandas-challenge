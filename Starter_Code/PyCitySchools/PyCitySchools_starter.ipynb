{
 "cells": [
  {
   "cell_type": "markdown",
   "metadata": {},
   "source": [
    "### Note\n",
    "* Instructions have been included for each segment. You do not have to follow them exactly, but they are included to help you think through the steps."
   ]
  },
  {
   "cell_type": "code",
   "execution_count": 1,
   "metadata": {},
   "outputs": [],
   "source": [
    "# Dependencies and Setup\n",
    "import pandas as pd\n",
    "from pathlib import Path\n",
    "\n",
    "# File to Load (Remember to Change These)\n",
    "school_data_to_load = Path(\"Resources/schools_complete.csv\")\n",
    "student_data_to_load = Path(\"Resources/students_complete.csv\")\n",
    "\n",
    "# Read School and Student Data File and store into Pandas DataFrames\n",
    "school_data = pd.read_csv(school_data_to_load)\n",
    "student_data = pd.read_csv(student_data_to_load)\n",
    "\n",
    "# Combine the data into a single dataset.  \n",
    "school_data_complete = pd.merge(student_data, school_data, how=\"left\", on=[\"school_name\", \"school_name\"])\n",
    "\n",
    "# save merge file and allocate it to Resources folder\n",
    "merged_school_data = Path(\"Resources\")\n",
    "merged_school_filename = \"merged_complete.csv\"\n",
    "merged_output_path = merged_school_data / merged_school_filename\n",
    "school_data_complete.to_csv(merged_output_path, index=False)"
   ]
  },
  {
   "cell_type": "code",
   "execution_count": 2,
   "metadata": {},
   "outputs": [
    {
     "data": {
      "text/plain": [
       "Index(['Student ID', 'student_name', 'gender', 'year', 'school_name',\n",
       "       'reading_score', 'maths_score', 'School ID', 'type', 'size', 'budget'],\n",
       "      dtype='object')"
      ]
     },
     "execution_count": 2,
     "metadata": {},
     "output_type": "execute_result"
    }
   ],
   "source": [
    "#Get all the column headers\n",
    "school_data_complete.columns"
   ]
  },
  {
   "cell_type": "markdown",
   "metadata": {},
   "source": [
    "## Local Government Area Summary\n",
    "\n",
    "* Calculate the total number of schools\n",
    "\n",
    "* Calculate the total number of students\n",
    "\n",
    "* Calculate the total budget\n",
    "\n",
    "* Calculate the average maths score \n",
    "\n",
    "* Calculate the average reading score\n",
    "\n",
    "* Calculate the percentage of students with a passing maths score (50 or greater)\n",
    "\n",
    "* Calculate the percentage of students with a passing reading score (50 or greater)\n",
    "\n",
    "* Calculate the percentage of students who passed maths **and** reading (% Overall Passing)\n",
    "\n",
    "* Create a dataframe to hold the above results\n",
    "\n",
    "* Optional: give the displayed data cleaner formatting"
   ]
  },
  {
   "cell_type": "code",
   "execution_count": 3,
   "metadata": {},
   "outputs": [
    {
     "data": {
      "text/plain": [
       "15"
      ]
     },
     "execution_count": 3,
     "metadata": {},
     "output_type": "execute_result"
    }
   ],
   "source": [
    "# calculate the total of unique school name\n",
    "unique_school_name = len(school_data_complete[\"school_name\"].unique())\n",
    "unique_school_name"
   ]
  },
  {
   "cell_type": "code",
   "execution_count": 4,
   "metadata": {},
   "outputs": [
    {
     "data": {
      "text/plain": [
       "39170"
      ]
     },
     "execution_count": 4,
     "metadata": {},
     "output_type": "execute_result"
    }
   ],
   "source": [
    "# calculate the total number of students\n",
    "total_number_student = len(school_data_complete[\"Student ID\"].unique())\n",
    "total_number_student"
   ]
  },
  {
   "cell_type": "code",
   "execution_count": 5,
   "metadata": {},
   "outputs": [
    {
     "data": {
      "text/plain": [
       "'$24,649,428.00'"
      ]
     },
     "execution_count": 5,
     "metadata": {},
     "output_type": "execute_result"
    }
   ],
   "source": [
    "# calculate the total budget\n",
    "total_budget = school_data[\"budget\"].sum()\n",
    "format_total_budget = \"${:,.2f}\".format(total_budget)\n",
    "format_total_budget"
   ]
  },
  {
   "cell_type": "code",
   "execution_count": 6,
   "metadata": {},
   "outputs": [
    {
     "data": {
      "text/plain": [
       "70.338192"
      ]
     },
     "execution_count": 6,
     "metadata": {},
     "output_type": "execute_result"
    }
   ],
   "source": [
    "# calculate the average and round the math score\n",
    "average_math_score = school_data_complete[\"maths_score\"].mean()\n",
    "round_math_score = average_math_score.round(6)\n",
    "round_math_score"
   ]
  },
  {
   "cell_type": "code",
   "execution_count": 7,
   "metadata": {},
   "outputs": [
    {
     "data": {
      "text/plain": [
       "69.980138"
      ]
     },
     "execution_count": 7,
     "metadata": {},
     "output_type": "execute_result"
    }
   ],
   "source": [
    "# calculate the average and round the reading score\n",
    "average_reading_score = school_data_complete[\"reading_score\"].mean()\n",
    "round_reading_score = average_reading_score.round(6)\n",
    "round_reading_score"
   ]
  },
  {
   "cell_type": "code",
   "execution_count": 8,
   "metadata": {},
   "outputs": [
    {
     "data": {
      "text/plain": [
       "86.078632"
      ]
     },
     "execution_count": 8,
     "metadata": {},
     "output_type": "execute_result"
    }
   ],
   "source": [
    "# calculate the percentage and round the math score\n",
    "student_passing_math = school_data_complete.loc[school_data_complete[\"maths_score\"]>=50]\n",
    "number_student_passing_math = student_passing_math.shape[0]\n",
    "total_students = school_data_complete.shape[0]\n",
    "percentage_passing_math = (number_student_passing_math / total_students) * 100\n",
    "percentage_passing_math = round (percentage_passing_math,6)\n",
    "percentage_passing_math"
   ]
  },
  {
   "cell_type": "code",
   "execution_count": 9,
   "metadata": {},
   "outputs": [
    {
     "data": {
      "text/plain": [
       "84.426857"
      ]
     },
     "execution_count": 9,
     "metadata": {},
     "output_type": "execute_result"
    }
   ],
   "source": [
    "# calculate the percentage and round the reading score\n",
    "student_passing_reading = school_data_complete.loc[school_data_complete[\"reading_score\"]>=50]\n",
    "number_student_passing_reading = student_passing_reading.shape[0]\n",
    "total_students = school_data_complete.shape[0]\n",
    "percentage_passing_reading = (number_student_passing_reading/ total_students) * 100\n",
    "percentage_passing_reading = round (percentage_passing_reading,6)\n",
    "percentage_passing_reading"
   ]
  },
  {
   "cell_type": "code",
   "execution_count": 10,
   "metadata": {},
   "outputs": [
    {
     "data": {
      "text/plain": [
       "72.808272"
      ]
     },
     "execution_count": 10,
     "metadata": {},
     "output_type": "execute_result"
    }
   ],
   "source": [
    "# calculate the percentage and round the overall score\n",
    "percentage_overall_passing = school_data_complete[(school_data_complete[\"maths_score\"]>=50) & \n",
    "                                                  (school_data_complete[\"reading_score\"]>=50)]['Student ID'].count()/total_students*100\n",
    "                                               \n",
    "percentage_overall_passing = round (percentage_overall_passing,6)\n",
    "percentage_overall_passing"
   ]
  },
  {
   "cell_type": "code",
   "execution_count": 11,
   "metadata": {},
   "outputs": [
    {
     "data": {
      "text/html": [
       "<div>\n",
       "<style scoped>\n",
       "    .dataframe tbody tr th:only-of-type {\n",
       "        vertical-align: middle;\n",
       "    }\n",
       "\n",
       "    .dataframe tbody tr th {\n",
       "        vertical-align: top;\n",
       "    }\n",
       "\n",
       "    .dataframe thead th {\n",
       "        text-align: right;\n",
       "    }\n",
       "</style>\n",
       "<table border=\"1\" class=\"dataframe\">\n",
       "  <thead>\n",
       "    <tr style=\"text-align: right;\">\n",
       "      <th></th>\n",
       "      <th>Total Schools</th>\n",
       "      <th>Total Students</th>\n",
       "      <th>Total Budget</th>\n",
       "      <th>Average Maths Score</th>\n",
       "      <th>Average Reading Score</th>\n",
       "      <th>% Passing Maths</th>\n",
       "      <th>% Passing Reading</th>\n",
       "      <th>% Overall Passing</th>\n",
       "    </tr>\n",
       "  </thead>\n",
       "  <tbody>\n",
       "    <tr>\n",
       "      <th>0</th>\n",
       "      <td>15</td>\n",
       "      <td>39,170</td>\n",
       "      <td>$24,649,428.00</td>\n",
       "      <td>70.338192</td>\n",
       "      <td>69.980138</td>\n",
       "      <td>86.078632</td>\n",
       "      <td>84.426857</td>\n",
       "      <td>72.808272</td>\n",
       "    </tr>\n",
       "  </tbody>\n",
       "</table>\n",
       "</div>"
      ],
      "text/plain": [
       "   Total Schools Total Students    Total Budget  Average Maths Score  \\\n",
       "0             15         39,170  $24,649,428.00            70.338192   \n",
       "\n",
       "   Average Reading Score  % Passing Maths  % Passing Reading  \\\n",
       "0              69.980138        86.078632          84.426857   \n",
       "\n",
       "   % Overall Passing  \n",
       "0          72.808272  "
      ]
     },
     "execution_count": 11,
     "metadata": {},
     "output_type": "execute_result"
    }
   ],
   "source": [
    "#summarize all the above calculations in a new dataframe \n",
    "lga_summary = pd.DataFrame({\"Total Schools\": unique_school_name,\n",
    "                            \"Total Students\": f\"{total_number_student:,}\",\n",
    "                            \"Total Budget\": format_total_budget,\n",
    "                            \"Average Maths Score\": round_math_score,\n",
    "                            \"Average Reading Score\":round_reading_score,\n",
    "                            \"% Passing Maths\": percentage_passing_math,\n",
    "                            \"% Passing Reading\": percentage_passing_reading,\n",
    "                            \"% Overall Passing\":percentage_overall_passing,\n",
    "                            \n",
    "                           }, index=[0])\n",
    "\n",
    "lga_summary\n"
   ]
  },
  {
   "cell_type": "markdown",
   "metadata": {},
   "source": [
    "## School Summary"
   ]
  },
  {
   "cell_type": "markdown",
   "metadata": {},
   "source": [
    "* Create an overview table that summarises key metrics about each school, including:\n",
    "  * School Name\n",
    "  * School Type\n",
    "  * Total Students\n",
    "  * Total School Budget\n",
    "  * Per Student Budget\n",
    "  * Average Maths Score\n",
    "  * Average Reading Score\n",
    "  * % Passing Maths\n",
    "  * % Passing Reading\n",
    "  * % Overall Passing (The percentage of students that passed maths **and** reading.)\n",
    "  "
   ]
  },
  {
   "cell_type": "code",
   "execution_count": 12,
   "metadata": {},
   "outputs": [
    {
     "data": {
      "text/plain": [
       "<pandas.core.groupby.generic.DataFrameGroupBy object at 0x000001C933913D90>"
      ]
     },
     "execution_count": 12,
     "metadata": {},
     "output_type": "execute_result"
    }
   ],
   "source": [
    "#create an index and group by the school name\n",
    "school_name_df = school_data_complete.set_index(\"school_name\").groupby([\"school_name\"])\n",
    "school_name_df\n"
   ]
  },
  {
   "cell_type": "code",
   "execution_count": 13,
   "metadata": {},
   "outputs": [
    {
     "data": {
      "text/plain": [
       "school_name\n",
       "Bailey High School        Government\n",
       "Cabrera High School      Independent\n",
       "Figueroa High School      Government\n",
       "Ford High School          Government\n",
       "Griffin High School      Independent\n",
       "Hernandez High School     Government\n",
       "Holden High School       Independent\n",
       "Huang High School         Government\n",
       "Johnson High School       Government\n",
       "Pena High School         Independent\n",
       "Rodriguez High School     Government\n",
       "Shelton High School      Independent\n",
       "Thomas High School       Independent\n",
       "Wilson High School       Independent\n",
       "Wright High School       Independent\n",
       "Name: type, dtype: object"
      ]
     },
     "execution_count": 13,
     "metadata": {},
     "output_type": "execute_result"
    }
   ],
   "source": [
    "#retrieve the first row of the DataFrame\n",
    "school_type_summary = school_name_df[\"type\"].first()\n",
    "school_type_summary"
   ]
  },
  {
   "cell_type": "code",
   "execution_count": 14,
   "metadata": {},
   "outputs": [
    {
     "data": {
      "text/plain": [
       "school_name\n",
       "Bailey High School       4976\n",
       "Cabrera High School      1858\n",
       "Figueroa High School     2949\n",
       "Ford High School         2739\n",
       "Griffin High School      1468\n",
       "Hernandez High School    4635\n",
       "Holden High School        427\n",
       "Huang High School        2917\n",
       "Johnson High School      4761\n",
       "Pena High School          962\n",
       "Rodriguez High School    3999\n",
       "Shelton High School      1761\n",
       "Thomas High School       1635\n",
       "Wilson High School       2283\n",
       "Wright High School       1800\n",
       "Name: Student ID, dtype: int64"
      ]
     },
     "execution_count": 14,
     "metadata": {},
     "output_type": "execute_result"
    }
   ],
   "source": [
    "#calculate total number of student in each school\n",
    "total_students_summary = school_name_df[\"Student ID\"].count()\n",
    "total_students_summary"
   ]
  },
  {
   "cell_type": "code",
   "execution_count": 15,
   "metadata": {},
   "outputs": [
    {
     "data": {
      "text/plain": [
       "school_name\n",
       "Bailey High School       3124928\n",
       "Cabrera High School      1081356\n",
       "Figueroa High School     1884411\n",
       "Ford High School         1763916\n",
       "Griffin High School       917500\n",
       "Hernandez High School    3022020\n",
       "Holden High School        248087\n",
       "Huang High School        1910635\n",
       "Johnson High School      3094650\n",
       "Pena High School          585858\n",
       "Rodriguez High School    2547363\n",
       "Shelton High School      1056600\n",
       "Thomas High School       1043130\n",
       "Wilson High School       1319574\n",
       "Wright High School       1049400\n",
       "Name: budget, dtype: int64"
      ]
     },
     "execution_count": 15,
     "metadata": {},
     "output_type": "execute_result"
    }
   ],
   "source": [
    "#calculate total budget in each school\n",
    "total_budget_summary = school_name_df[\"budget\"].first()\n",
    "total_budget_summary"
   ]
  },
  {
   "cell_type": "code",
   "execution_count": 16,
   "metadata": {},
   "outputs": [
    {
     "data": {
      "text/plain": [
       "school_name\n",
       "Bailey High School       628.0\n",
       "Cabrera High School      582.0\n",
       "Figueroa High School     639.0\n",
       "Ford High School         644.0\n",
       "Griffin High School      625.0\n",
       "Hernandez High School    652.0\n",
       "Holden High School       581.0\n",
       "Huang High School        655.0\n",
       "Johnson High School      650.0\n",
       "Pena High School         609.0\n",
       "Rodriguez High School    637.0\n",
       "Shelton High School      600.0\n",
       "Thomas High School       638.0\n",
       "Wilson High School       578.0\n",
       "Wright High School       583.0\n",
       "dtype: float64"
      ]
     },
     "execution_count": 16,
     "metadata": {},
     "output_type": "execute_result"
    }
   ],
   "source": [
    "#calculate budget per student in each school\n",
    "budget_per_student = total_budget_summary / total_students_summary\n",
    "budget_per_student"
   ]
  },
  {
   "cell_type": "code",
   "execution_count": 17,
   "metadata": {},
   "outputs": [
    {
     "data": {
      "text/plain": [
       "school_name\n",
       "Bailey High School       72.352894\n",
       "Cabrera High School      71.657158\n",
       "Figueroa High School     68.698542\n",
       "Ford High School         69.091274\n",
       "Griffin High School      71.788147\n",
       "Hernandez High School    68.874865\n",
       "Holden High School       72.583138\n",
       "Huang High School        68.935207\n",
       "Johnson High School      68.843100\n",
       "Pena High School         72.088358\n",
       "Rodriguez High School    72.047762\n",
       "Shelton High School      72.034072\n",
       "Thomas High School       69.581651\n",
       "Wilson High School       69.170828\n",
       "Wright High School       72.047222\n",
       "Name: maths_score, dtype: float64"
      ]
     },
     "execution_count": 17,
     "metadata": {},
     "output_type": "execute_result"
    }
   ],
   "source": [
    "#calculate average math score in each school\n",
    "average_math_score = school_name_df[\"maths_score\"].mean()\n",
    "average_math_score"
   ]
  },
  {
   "cell_type": "code",
   "execution_count": 18,
   "metadata": {},
   "outputs": [
    {
     "data": {
      "text/plain": [
       "school_name\n",
       "Bailey High School       71.008842\n",
       "Cabrera High School      71.359526\n",
       "Figueroa High School     69.077993\n",
       "Ford High School         69.572472\n",
       "Griffin High School      71.245232\n",
       "Hernandez High School    69.186408\n",
       "Holden High School       71.660422\n",
       "Huang High School        68.910525\n",
       "Johnson High School      69.039277\n",
       "Pena High School         71.613306\n",
       "Rodriguez High School    70.935984\n",
       "Shelton High School      70.257808\n",
       "Thomas High School       69.768807\n",
       "Wilson High School       68.876916\n",
       "Wright High School       70.969444\n",
       "Name: reading_score, dtype: float64"
      ]
     },
     "execution_count": 18,
     "metadata": {},
     "output_type": "execute_result"
    }
   ],
   "source": [
    "#calculate average reading score in each school\n",
    "average_reading_score = school_name_df[\"reading_score\"].mean()\n",
    "average_reading_score"
   ]
  },
  {
   "cell_type": "code",
   "execution_count": 19,
   "metadata": {},
   "outputs": [
    {
     "data": {
      "text/plain": [
       "school_name\n",
       "Bailey High School       91.639871\n",
       "Cabrera High School      90.850377\n",
       "Figueroa High School     81.654798\n",
       "Ford High School         82.438846\n",
       "Griffin High School      91.212534\n",
       "Hernandez High School    80.949299\n",
       "Holden High School       89.929742\n",
       "Huang High School        81.693521\n",
       "Johnson High School      82.062592\n",
       "Pena High School         91.683992\n",
       "Rodriguez High School    90.797699\n",
       "Shelton High School      91.538898\n",
       "Thomas High School       83.853211\n",
       "Wilson High School       82.785808\n",
       "Wright High School       91.777778\n",
       "dtype: float64"
      ]
     },
     "execution_count": 19,
     "metadata": {},
     "output_type": "execute_result"
    }
   ],
   "source": [
    "#calculate percentage math score in each school\n",
    "passing_math = school_data_complete[school_data_complete[\"maths_score\"] >= 50].groupby([\"school_name\"])[\"maths_score\"].count()\n",
    "percentage_passing_math = passing_math / total_students_summary * 100\n",
    "percentage_passing_math"
   ]
  },
  {
   "cell_type": "code",
   "execution_count": 20,
   "metadata": {},
   "outputs": [
    {
     "data": {
      "text/plain": [
       "school_name\n",
       "Bailey High School       87.379421\n",
       "Cabrera High School      89.074273\n",
       "Figueroa High School     82.807731\n",
       "Ford High School         82.219788\n",
       "Griffin High School      88.487738\n",
       "Hernandez High School    81.877023\n",
       "Holden High School       88.524590\n",
       "Huang High School        81.453548\n",
       "Johnson High School      81.978576\n",
       "Pena High School         86.590437\n",
       "Rodriguez High School    87.396849\n",
       "Shelton High School      86.712095\n",
       "Thomas High School       82.629969\n",
       "Wilson High School       81.296540\n",
       "Wright High School       86.666667\n",
       "dtype: float64"
      ]
     },
     "execution_count": 20,
     "metadata": {},
     "output_type": "execute_result"
    }
   ],
   "source": [
    "#calculate percentage reading score in each school\n",
    "passing_read = school_data_complete[school_data_complete[\"reading_score\"] >= 50].groupby([\"school_name\"])[\"reading_score\"].count()\n",
    "percentage_passing_read = passing_read / total_students_summary * 100\n",
    "percentage_passing_read"
   ]
  },
  {
   "cell_type": "code",
   "execution_count": 21,
   "metadata": {},
   "outputs": [
    {
     "data": {
      "text/plain": [
       "school_name\n",
       "Bailey High School       80.084405\n",
       "Cabrera High School      80.785791\n",
       "Figueroa High School     67.650051\n",
       "Ford High School         67.469880\n",
       "Griffin High School      81.335150\n",
       "Hernandez High School    66.364617\n",
       "Holden High School       78.922717\n",
       "Huang High School        66.712376\n",
       "Johnson High School      67.191766\n",
       "Pena High School         79.209979\n",
       "Rodriguez High School    79.419855\n",
       "Shelton High School      78.875639\n",
       "Thomas High School       69.480122\n",
       "Wilson High School       67.455103\n",
       "Wright High School       79.722222\n",
       "Name: Student ID, dtype: float64"
      ]
     },
     "execution_count": 21,
     "metadata": {},
     "output_type": "execute_result"
    }
   ],
   "source": [
    "#calculate overall percentage score in each school\n",
    "percentage_overall_passing_rate = school_data_complete[(school_data_complete[\"maths_score\"]>=50) & \n",
    "                                                  (school_data_complete[\"reading_score\"]>=50)].groupby('school_name')['Student ID'].count()/total_students_summary*100\n",
    "percentage_overall_passing_rate"
   ]
  },
  {
   "cell_type": "code",
   "execution_count": 22,
   "metadata": {},
   "outputs": [
    {
     "data": {
      "text/html": [
       "<style type=\"text/css\">\n",
       "</style>\n",
       "<table id=\"T_dbe08\">\n",
       "  <thead>\n",
       "    <tr>\n",
       "      <th class=\"blank level0\" >&nbsp;</th>\n",
       "      <th id=\"T_dbe08_level0_col0\" class=\"col_heading level0 col0\" >School Type</th>\n",
       "      <th id=\"T_dbe08_level0_col1\" class=\"col_heading level0 col1\" >Total Students</th>\n",
       "      <th id=\"T_dbe08_level0_col2\" class=\"col_heading level0 col2\" >Total School Budget</th>\n",
       "      <th id=\"T_dbe08_level0_col3\" class=\"col_heading level0 col3\" >Per Student Budget</th>\n",
       "      <th id=\"T_dbe08_level0_col4\" class=\"col_heading level0 col4\" >Average Maths Score</th>\n",
       "      <th id=\"T_dbe08_level0_col5\" class=\"col_heading level0 col5\" >Average Reading Score</th>\n",
       "      <th id=\"T_dbe08_level0_col6\" class=\"col_heading level0 col6\" >% Passing Math</th>\n",
       "      <th id=\"T_dbe08_level0_col7\" class=\"col_heading level0 col7\" >% Passing Reading</th>\n",
       "      <th id=\"T_dbe08_level0_col8\" class=\"col_heading level0 col8\" >% Overall Passing</th>\n",
       "    </tr>\n",
       "    <tr>\n",
       "      <th class=\"index_name level0\" >school_name</th>\n",
       "      <th class=\"blank col0\" >&nbsp;</th>\n",
       "      <th class=\"blank col1\" >&nbsp;</th>\n",
       "      <th class=\"blank col2\" >&nbsp;</th>\n",
       "      <th class=\"blank col3\" >&nbsp;</th>\n",
       "      <th class=\"blank col4\" >&nbsp;</th>\n",
       "      <th class=\"blank col5\" >&nbsp;</th>\n",
       "      <th class=\"blank col6\" >&nbsp;</th>\n",
       "      <th class=\"blank col7\" >&nbsp;</th>\n",
       "      <th class=\"blank col8\" >&nbsp;</th>\n",
       "    </tr>\n",
       "  </thead>\n",
       "  <tbody>\n",
       "    <tr>\n",
       "      <th id=\"T_dbe08_level0_row0\" class=\"row_heading level0 row0\" >Bailey High School</th>\n",
       "      <td id=\"T_dbe08_row0_col0\" class=\"data row0 col0\" >Government</td>\n",
       "      <td id=\"T_dbe08_row0_col1\" class=\"data row0 col1\" >4976</td>\n",
       "      <td id=\"T_dbe08_row0_col2\" class=\"data row0 col2\" >$3,124,928.00</td>\n",
       "      <td id=\"T_dbe08_row0_col3\" class=\"data row0 col3\" >$628.00</td>\n",
       "      <td id=\"T_dbe08_row0_col4\" class=\"data row0 col4\" >72.352894</td>\n",
       "      <td id=\"T_dbe08_row0_col5\" class=\"data row0 col5\" >71.008842</td>\n",
       "      <td id=\"T_dbe08_row0_col6\" class=\"data row0 col6\" >91.639871</td>\n",
       "      <td id=\"T_dbe08_row0_col7\" class=\"data row0 col7\" >87.379421</td>\n",
       "      <td id=\"T_dbe08_row0_col8\" class=\"data row0 col8\" >80.084405</td>\n",
       "    </tr>\n",
       "    <tr>\n",
       "      <th id=\"T_dbe08_level0_row1\" class=\"row_heading level0 row1\" >Cabrera High School</th>\n",
       "      <td id=\"T_dbe08_row1_col0\" class=\"data row1 col0\" >Independent</td>\n",
       "      <td id=\"T_dbe08_row1_col1\" class=\"data row1 col1\" >1858</td>\n",
       "      <td id=\"T_dbe08_row1_col2\" class=\"data row1 col2\" >$1,081,356.00</td>\n",
       "      <td id=\"T_dbe08_row1_col3\" class=\"data row1 col3\" >$582.00</td>\n",
       "      <td id=\"T_dbe08_row1_col4\" class=\"data row1 col4\" >71.657158</td>\n",
       "      <td id=\"T_dbe08_row1_col5\" class=\"data row1 col5\" >71.359526</td>\n",
       "      <td id=\"T_dbe08_row1_col6\" class=\"data row1 col6\" >90.850377</td>\n",
       "      <td id=\"T_dbe08_row1_col7\" class=\"data row1 col7\" >89.074273</td>\n",
       "      <td id=\"T_dbe08_row1_col8\" class=\"data row1 col8\" >80.785791</td>\n",
       "    </tr>\n",
       "    <tr>\n",
       "      <th id=\"T_dbe08_level0_row2\" class=\"row_heading level0 row2\" >Figueroa High School</th>\n",
       "      <td id=\"T_dbe08_row2_col0\" class=\"data row2 col0\" >Government</td>\n",
       "      <td id=\"T_dbe08_row2_col1\" class=\"data row2 col1\" >2949</td>\n",
       "      <td id=\"T_dbe08_row2_col2\" class=\"data row2 col2\" >$1,884,411.00</td>\n",
       "      <td id=\"T_dbe08_row2_col3\" class=\"data row2 col3\" >$639.00</td>\n",
       "      <td id=\"T_dbe08_row2_col4\" class=\"data row2 col4\" >68.698542</td>\n",
       "      <td id=\"T_dbe08_row2_col5\" class=\"data row2 col5\" >69.077993</td>\n",
       "      <td id=\"T_dbe08_row2_col6\" class=\"data row2 col6\" >81.654798</td>\n",
       "      <td id=\"T_dbe08_row2_col7\" class=\"data row2 col7\" >82.807731</td>\n",
       "      <td id=\"T_dbe08_row2_col8\" class=\"data row2 col8\" >67.650051</td>\n",
       "    </tr>\n",
       "    <tr>\n",
       "      <th id=\"T_dbe08_level0_row3\" class=\"row_heading level0 row3\" >Ford High School</th>\n",
       "      <td id=\"T_dbe08_row3_col0\" class=\"data row3 col0\" >Government</td>\n",
       "      <td id=\"T_dbe08_row3_col1\" class=\"data row3 col1\" >2739</td>\n",
       "      <td id=\"T_dbe08_row3_col2\" class=\"data row3 col2\" >$1,763,916.00</td>\n",
       "      <td id=\"T_dbe08_row3_col3\" class=\"data row3 col3\" >$644.00</td>\n",
       "      <td id=\"T_dbe08_row3_col4\" class=\"data row3 col4\" >69.091274</td>\n",
       "      <td id=\"T_dbe08_row3_col5\" class=\"data row3 col5\" >69.572472</td>\n",
       "      <td id=\"T_dbe08_row3_col6\" class=\"data row3 col6\" >82.438846</td>\n",
       "      <td id=\"T_dbe08_row3_col7\" class=\"data row3 col7\" >82.219788</td>\n",
       "      <td id=\"T_dbe08_row3_col8\" class=\"data row3 col8\" >67.469880</td>\n",
       "    </tr>\n",
       "    <tr>\n",
       "      <th id=\"T_dbe08_level0_row4\" class=\"row_heading level0 row4\" >Griffin High School</th>\n",
       "      <td id=\"T_dbe08_row4_col0\" class=\"data row4 col0\" >Independent</td>\n",
       "      <td id=\"T_dbe08_row4_col1\" class=\"data row4 col1\" >1468</td>\n",
       "      <td id=\"T_dbe08_row4_col2\" class=\"data row4 col2\" >$917,500.00</td>\n",
       "      <td id=\"T_dbe08_row4_col3\" class=\"data row4 col3\" >$625.00</td>\n",
       "      <td id=\"T_dbe08_row4_col4\" class=\"data row4 col4\" >71.788147</td>\n",
       "      <td id=\"T_dbe08_row4_col5\" class=\"data row4 col5\" >71.245232</td>\n",
       "      <td id=\"T_dbe08_row4_col6\" class=\"data row4 col6\" >91.212534</td>\n",
       "      <td id=\"T_dbe08_row4_col7\" class=\"data row4 col7\" >88.487738</td>\n",
       "      <td id=\"T_dbe08_row4_col8\" class=\"data row4 col8\" >81.335150</td>\n",
       "    </tr>\n",
       "    <tr>\n",
       "      <th id=\"T_dbe08_level0_row5\" class=\"row_heading level0 row5\" >Hernandez High School</th>\n",
       "      <td id=\"T_dbe08_row5_col0\" class=\"data row5 col0\" >Government</td>\n",
       "      <td id=\"T_dbe08_row5_col1\" class=\"data row5 col1\" >4635</td>\n",
       "      <td id=\"T_dbe08_row5_col2\" class=\"data row5 col2\" >$3,022,020.00</td>\n",
       "      <td id=\"T_dbe08_row5_col3\" class=\"data row5 col3\" >$652.00</td>\n",
       "      <td id=\"T_dbe08_row5_col4\" class=\"data row5 col4\" >68.874865</td>\n",
       "      <td id=\"T_dbe08_row5_col5\" class=\"data row5 col5\" >69.186408</td>\n",
       "      <td id=\"T_dbe08_row5_col6\" class=\"data row5 col6\" >80.949299</td>\n",
       "      <td id=\"T_dbe08_row5_col7\" class=\"data row5 col7\" >81.877023</td>\n",
       "      <td id=\"T_dbe08_row5_col8\" class=\"data row5 col8\" >66.364617</td>\n",
       "    </tr>\n",
       "    <tr>\n",
       "      <th id=\"T_dbe08_level0_row6\" class=\"row_heading level0 row6\" >Holden High School</th>\n",
       "      <td id=\"T_dbe08_row6_col0\" class=\"data row6 col0\" >Independent</td>\n",
       "      <td id=\"T_dbe08_row6_col1\" class=\"data row6 col1\" >427</td>\n",
       "      <td id=\"T_dbe08_row6_col2\" class=\"data row6 col2\" >$248,087.00</td>\n",
       "      <td id=\"T_dbe08_row6_col3\" class=\"data row6 col3\" >$581.00</td>\n",
       "      <td id=\"T_dbe08_row6_col4\" class=\"data row6 col4\" >72.583138</td>\n",
       "      <td id=\"T_dbe08_row6_col5\" class=\"data row6 col5\" >71.660422</td>\n",
       "      <td id=\"T_dbe08_row6_col6\" class=\"data row6 col6\" >89.929742</td>\n",
       "      <td id=\"T_dbe08_row6_col7\" class=\"data row6 col7\" >88.524590</td>\n",
       "      <td id=\"T_dbe08_row6_col8\" class=\"data row6 col8\" >78.922717</td>\n",
       "    </tr>\n",
       "    <tr>\n",
       "      <th id=\"T_dbe08_level0_row7\" class=\"row_heading level0 row7\" >Huang High School</th>\n",
       "      <td id=\"T_dbe08_row7_col0\" class=\"data row7 col0\" >Government</td>\n",
       "      <td id=\"T_dbe08_row7_col1\" class=\"data row7 col1\" >2917</td>\n",
       "      <td id=\"T_dbe08_row7_col2\" class=\"data row7 col2\" >$1,910,635.00</td>\n",
       "      <td id=\"T_dbe08_row7_col3\" class=\"data row7 col3\" >$655.00</td>\n",
       "      <td id=\"T_dbe08_row7_col4\" class=\"data row7 col4\" >68.935207</td>\n",
       "      <td id=\"T_dbe08_row7_col5\" class=\"data row7 col5\" >68.910525</td>\n",
       "      <td id=\"T_dbe08_row7_col6\" class=\"data row7 col6\" >81.693521</td>\n",
       "      <td id=\"T_dbe08_row7_col7\" class=\"data row7 col7\" >81.453548</td>\n",
       "      <td id=\"T_dbe08_row7_col8\" class=\"data row7 col8\" >66.712376</td>\n",
       "    </tr>\n",
       "    <tr>\n",
       "      <th id=\"T_dbe08_level0_row8\" class=\"row_heading level0 row8\" >Johnson High School</th>\n",
       "      <td id=\"T_dbe08_row8_col0\" class=\"data row8 col0\" >Government</td>\n",
       "      <td id=\"T_dbe08_row8_col1\" class=\"data row8 col1\" >4761</td>\n",
       "      <td id=\"T_dbe08_row8_col2\" class=\"data row8 col2\" >$3,094,650.00</td>\n",
       "      <td id=\"T_dbe08_row8_col3\" class=\"data row8 col3\" >$650.00</td>\n",
       "      <td id=\"T_dbe08_row8_col4\" class=\"data row8 col4\" >68.843100</td>\n",
       "      <td id=\"T_dbe08_row8_col5\" class=\"data row8 col5\" >69.039277</td>\n",
       "      <td id=\"T_dbe08_row8_col6\" class=\"data row8 col6\" >82.062592</td>\n",
       "      <td id=\"T_dbe08_row8_col7\" class=\"data row8 col7\" >81.978576</td>\n",
       "      <td id=\"T_dbe08_row8_col8\" class=\"data row8 col8\" >67.191766</td>\n",
       "    </tr>\n",
       "    <tr>\n",
       "      <th id=\"T_dbe08_level0_row9\" class=\"row_heading level0 row9\" >Pena High School</th>\n",
       "      <td id=\"T_dbe08_row9_col0\" class=\"data row9 col0\" >Independent</td>\n",
       "      <td id=\"T_dbe08_row9_col1\" class=\"data row9 col1\" >962</td>\n",
       "      <td id=\"T_dbe08_row9_col2\" class=\"data row9 col2\" >$585,858.00</td>\n",
       "      <td id=\"T_dbe08_row9_col3\" class=\"data row9 col3\" >$609.00</td>\n",
       "      <td id=\"T_dbe08_row9_col4\" class=\"data row9 col4\" >72.088358</td>\n",
       "      <td id=\"T_dbe08_row9_col5\" class=\"data row9 col5\" >71.613306</td>\n",
       "      <td id=\"T_dbe08_row9_col6\" class=\"data row9 col6\" >91.683992</td>\n",
       "      <td id=\"T_dbe08_row9_col7\" class=\"data row9 col7\" >86.590437</td>\n",
       "      <td id=\"T_dbe08_row9_col8\" class=\"data row9 col8\" >79.209979</td>\n",
       "    </tr>\n",
       "    <tr>\n",
       "      <th id=\"T_dbe08_level0_row10\" class=\"row_heading level0 row10\" >Rodriguez High School</th>\n",
       "      <td id=\"T_dbe08_row10_col0\" class=\"data row10 col0\" >Government</td>\n",
       "      <td id=\"T_dbe08_row10_col1\" class=\"data row10 col1\" >3999</td>\n",
       "      <td id=\"T_dbe08_row10_col2\" class=\"data row10 col2\" >$2,547,363.00</td>\n",
       "      <td id=\"T_dbe08_row10_col3\" class=\"data row10 col3\" >$637.00</td>\n",
       "      <td id=\"T_dbe08_row10_col4\" class=\"data row10 col4\" >72.047762</td>\n",
       "      <td id=\"T_dbe08_row10_col5\" class=\"data row10 col5\" >70.935984</td>\n",
       "      <td id=\"T_dbe08_row10_col6\" class=\"data row10 col6\" >90.797699</td>\n",
       "      <td id=\"T_dbe08_row10_col7\" class=\"data row10 col7\" >87.396849</td>\n",
       "      <td id=\"T_dbe08_row10_col8\" class=\"data row10 col8\" >79.419855</td>\n",
       "    </tr>\n",
       "    <tr>\n",
       "      <th id=\"T_dbe08_level0_row11\" class=\"row_heading level0 row11\" >Shelton High School</th>\n",
       "      <td id=\"T_dbe08_row11_col0\" class=\"data row11 col0\" >Independent</td>\n",
       "      <td id=\"T_dbe08_row11_col1\" class=\"data row11 col1\" >1761</td>\n",
       "      <td id=\"T_dbe08_row11_col2\" class=\"data row11 col2\" >$1,056,600.00</td>\n",
       "      <td id=\"T_dbe08_row11_col3\" class=\"data row11 col3\" >$600.00</td>\n",
       "      <td id=\"T_dbe08_row11_col4\" class=\"data row11 col4\" >72.034072</td>\n",
       "      <td id=\"T_dbe08_row11_col5\" class=\"data row11 col5\" >70.257808</td>\n",
       "      <td id=\"T_dbe08_row11_col6\" class=\"data row11 col6\" >91.538898</td>\n",
       "      <td id=\"T_dbe08_row11_col7\" class=\"data row11 col7\" >86.712095</td>\n",
       "      <td id=\"T_dbe08_row11_col8\" class=\"data row11 col8\" >78.875639</td>\n",
       "    </tr>\n",
       "    <tr>\n",
       "      <th id=\"T_dbe08_level0_row12\" class=\"row_heading level0 row12\" >Thomas High School</th>\n",
       "      <td id=\"T_dbe08_row12_col0\" class=\"data row12 col0\" >Independent</td>\n",
       "      <td id=\"T_dbe08_row12_col1\" class=\"data row12 col1\" >1635</td>\n",
       "      <td id=\"T_dbe08_row12_col2\" class=\"data row12 col2\" >$1,043,130.00</td>\n",
       "      <td id=\"T_dbe08_row12_col3\" class=\"data row12 col3\" >$638.00</td>\n",
       "      <td id=\"T_dbe08_row12_col4\" class=\"data row12 col4\" >69.581651</td>\n",
       "      <td id=\"T_dbe08_row12_col5\" class=\"data row12 col5\" >69.768807</td>\n",
       "      <td id=\"T_dbe08_row12_col6\" class=\"data row12 col6\" >83.853211</td>\n",
       "      <td id=\"T_dbe08_row12_col7\" class=\"data row12 col7\" >82.629969</td>\n",
       "      <td id=\"T_dbe08_row12_col8\" class=\"data row12 col8\" >69.480122</td>\n",
       "    </tr>\n",
       "    <tr>\n",
       "      <th id=\"T_dbe08_level0_row13\" class=\"row_heading level0 row13\" >Wilson High School</th>\n",
       "      <td id=\"T_dbe08_row13_col0\" class=\"data row13 col0\" >Independent</td>\n",
       "      <td id=\"T_dbe08_row13_col1\" class=\"data row13 col1\" >2283</td>\n",
       "      <td id=\"T_dbe08_row13_col2\" class=\"data row13 col2\" >$1,319,574.00</td>\n",
       "      <td id=\"T_dbe08_row13_col3\" class=\"data row13 col3\" >$578.00</td>\n",
       "      <td id=\"T_dbe08_row13_col4\" class=\"data row13 col4\" >69.170828</td>\n",
       "      <td id=\"T_dbe08_row13_col5\" class=\"data row13 col5\" >68.876916</td>\n",
       "      <td id=\"T_dbe08_row13_col6\" class=\"data row13 col6\" >82.785808</td>\n",
       "      <td id=\"T_dbe08_row13_col7\" class=\"data row13 col7\" >81.296540</td>\n",
       "      <td id=\"T_dbe08_row13_col8\" class=\"data row13 col8\" >67.455103</td>\n",
       "    </tr>\n",
       "    <tr>\n",
       "      <th id=\"T_dbe08_level0_row14\" class=\"row_heading level0 row14\" >Wright High School</th>\n",
       "      <td id=\"T_dbe08_row14_col0\" class=\"data row14 col0\" >Independent</td>\n",
       "      <td id=\"T_dbe08_row14_col1\" class=\"data row14 col1\" >1800</td>\n",
       "      <td id=\"T_dbe08_row14_col2\" class=\"data row14 col2\" >$1,049,400.00</td>\n",
       "      <td id=\"T_dbe08_row14_col3\" class=\"data row14 col3\" >$583.00</td>\n",
       "      <td id=\"T_dbe08_row14_col4\" class=\"data row14 col4\" >72.047222</td>\n",
       "      <td id=\"T_dbe08_row14_col5\" class=\"data row14 col5\" >70.969444</td>\n",
       "      <td id=\"T_dbe08_row14_col6\" class=\"data row14 col6\" >91.777778</td>\n",
       "      <td id=\"T_dbe08_row14_col7\" class=\"data row14 col7\" >86.666667</td>\n",
       "      <td id=\"T_dbe08_row14_col8\" class=\"data row14 col8\" >79.722222</td>\n",
       "    </tr>\n",
       "  </tbody>\n",
       "</table>\n"
      ],
      "text/plain": [
       "<pandas.io.formats.style.Styler at 0x1c9339870a0>"
      ]
     },
     "execution_count": 22,
     "metadata": {},
     "output_type": "execute_result"
    }
   ],
   "source": [
    "#store the above calculation into a DataFrame\n",
    "school_summary_df = pd.DataFrame({\"School Type\": school_type_summary,\n",
    "      \"Total Students\": total_students_summary,\n",
    "      \"Total School Budget\": total_budget_summary,\n",
    "      \"Per Student Budget\": budget_per_student,\n",
    "      \"Average Maths Score\": average_math_score,\n",
    "      \"Average Reading Score\": average_reading_score,\n",
    "      \"% Passing Math\": percentage_passing_math,\n",
    "      \"% Passing Reading\": percentage_passing_read,\n",
    "      \"% Overall Passing\": percentage_overall_passing_rate})\n",
    "\n",
    "#format the columns\n",
    "format_school_summary_df = school_summary_df.style.format({'Total Students': '{:}',\n",
    "                          \"Total School Budget\": \"${:,.2f}\",\n",
    "                          \"Per Student Budget\": \"${:.2f}\",\n",
    "                          'Average Math Score': \"{:6f}\", \n",
    "                          'Average Reading Score': \"{:6f}\", \n",
    "                          \"% Passing Math\": \"{:6f}\", \n",
    "                          \"% Passing Reading\": \"{:6f}\"})\n",
    "\n",
    "format_school_summary_df"
   ]
  },
  {
   "cell_type": "markdown",
   "metadata": {},
   "source": [
    "## Top Performing Schools (By % Overall Passing)"
   ]
  },
  {
   "cell_type": "markdown",
   "metadata": {},
   "source": [
    "* Sort and display the top five performing schools by % overall passing."
   ]
  },
  {
   "cell_type": "code",
   "execution_count": 23,
   "metadata": {},
   "outputs": [
    {
     "data": {
      "text/html": [
       "<div>\n",
       "<style scoped>\n",
       "    .dataframe tbody tr th:only-of-type {\n",
       "        vertical-align: middle;\n",
       "    }\n",
       "\n",
       "    .dataframe tbody tr th {\n",
       "        vertical-align: top;\n",
       "    }\n",
       "\n",
       "    .dataframe thead th {\n",
       "        text-align: right;\n",
       "    }\n",
       "</style>\n",
       "<table border=\"1\" class=\"dataframe\">\n",
       "  <thead>\n",
       "    <tr style=\"text-align: right;\">\n",
       "      <th></th>\n",
       "      <th>School Type</th>\n",
       "      <th>Total Students</th>\n",
       "      <th>Total School Budget</th>\n",
       "      <th>Per Student Budget</th>\n",
       "      <th>Average Maths Score</th>\n",
       "      <th>Average Reading Score</th>\n",
       "      <th>% Passing Math</th>\n",
       "      <th>% Passing Reading</th>\n",
       "      <th>% Overall Passing</th>\n",
       "    </tr>\n",
       "    <tr>\n",
       "      <th>school_name</th>\n",
       "      <th></th>\n",
       "      <th></th>\n",
       "      <th></th>\n",
       "      <th></th>\n",
       "      <th></th>\n",
       "      <th></th>\n",
       "      <th></th>\n",
       "      <th></th>\n",
       "      <th></th>\n",
       "    </tr>\n",
       "  </thead>\n",
       "  <tbody>\n",
       "    <tr>\n",
       "      <th>Griffin High School</th>\n",
       "      <td>Independent</td>\n",
       "      <td>1468</td>\n",
       "      <td>917500</td>\n",
       "      <td>625.0</td>\n",
       "      <td>71.788147</td>\n",
       "      <td>71.245232</td>\n",
       "      <td>91.212534</td>\n",
       "      <td>88.487738</td>\n",
       "      <td>81.335150</td>\n",
       "    </tr>\n",
       "    <tr>\n",
       "      <th>Cabrera High School</th>\n",
       "      <td>Independent</td>\n",
       "      <td>1858</td>\n",
       "      <td>1081356</td>\n",
       "      <td>582.0</td>\n",
       "      <td>71.657158</td>\n",
       "      <td>71.359526</td>\n",
       "      <td>90.850377</td>\n",
       "      <td>89.074273</td>\n",
       "      <td>80.785791</td>\n",
       "    </tr>\n",
       "    <tr>\n",
       "      <th>Bailey High School</th>\n",
       "      <td>Government</td>\n",
       "      <td>4976</td>\n",
       "      <td>3124928</td>\n",
       "      <td>628.0</td>\n",
       "      <td>72.352894</td>\n",
       "      <td>71.008842</td>\n",
       "      <td>91.639871</td>\n",
       "      <td>87.379421</td>\n",
       "      <td>80.084405</td>\n",
       "    </tr>\n",
       "    <tr>\n",
       "      <th>Wright High School</th>\n",
       "      <td>Independent</td>\n",
       "      <td>1800</td>\n",
       "      <td>1049400</td>\n",
       "      <td>583.0</td>\n",
       "      <td>72.047222</td>\n",
       "      <td>70.969444</td>\n",
       "      <td>91.777778</td>\n",
       "      <td>86.666667</td>\n",
       "      <td>79.722222</td>\n",
       "    </tr>\n",
       "    <tr>\n",
       "      <th>Rodriguez High School</th>\n",
       "      <td>Government</td>\n",
       "      <td>3999</td>\n",
       "      <td>2547363</td>\n",
       "      <td>637.0</td>\n",
       "      <td>72.047762</td>\n",
       "      <td>70.935984</td>\n",
       "      <td>90.797699</td>\n",
       "      <td>87.396849</td>\n",
       "      <td>79.419855</td>\n",
       "    </tr>\n",
       "  </tbody>\n",
       "</table>\n",
       "</div>"
      ],
      "text/plain": [
       "                       School Type  Total Students  Total School Budget  \\\n",
       "school_name                                                               \n",
       "Griffin High School    Independent            1468               917500   \n",
       "Cabrera High School    Independent            1858              1081356   \n",
       "Bailey High School      Government            4976              3124928   \n",
       "Wright High School     Independent            1800              1049400   \n",
       "Rodriguez High School   Government            3999              2547363   \n",
       "\n",
       "                       Per Student Budget  Average Maths Score  \\\n",
       "school_name                                                      \n",
       "Griffin High School                 625.0            71.788147   \n",
       "Cabrera High School                 582.0            71.657158   \n",
       "Bailey High School                  628.0            72.352894   \n",
       "Wright High School                  583.0            72.047222   \n",
       "Rodriguez High School               637.0            72.047762   \n",
       "\n",
       "                       Average Reading Score  % Passing Math  \\\n",
       "school_name                                                    \n",
       "Griffin High School                71.245232       91.212534   \n",
       "Cabrera High School                71.359526       90.850377   \n",
       "Bailey High School                 71.008842       91.639871   \n",
       "Wright High School                 70.969444       91.777778   \n",
       "Rodriguez High School              70.935984       90.797699   \n",
       "\n",
       "                       % Passing Reading  % Overall Passing  \n",
       "school_name                                                  \n",
       "Griffin High School            88.487738          81.335150  \n",
       "Cabrera High School            89.074273          80.785791  \n",
       "Bailey High School             87.379421          80.084405  \n",
       "Wright High School             86.666667          79.722222  \n",
       "Rodriguez High School          87.396849          79.419855  "
      ]
     },
     "execution_count": 23,
     "metadata": {},
     "output_type": "execute_result"
    }
   ],
   "source": [
    "#sort ascending value stored in the % Overall Passing\n",
    "top_performing = school_summary_df.sort_values(\"% Overall Passing\", ascending = False)\n",
    "\n",
    "#format the columns\n",
    "top_performing.style.format({'Total Students': '{:}',\n",
    "                          \"Total School Budget\": \"${:,.2f}\",\n",
    "                          \"Per Student Budget\": \"${:.2f}\",\n",
    "                          'Average Math Score': \"{:6f}\", \n",
    "                          'Average Reading Score': \"{:6f}\", \n",
    "                          \"% Passing Math\": \"{:6f}\", \n",
    "                          \"% Passing Reading\": \"{:6f}\", \n",
    "                            \"% Overall Passing\": \"{:6f}\"})\n",
    "#print the first 5 rows\n",
    "top_performing.head()"
   ]
  },
  {
   "cell_type": "markdown",
   "metadata": {},
   "source": [
    "## Bottom Performing Schools (By % Overall Passing)"
   ]
  },
  {
   "cell_type": "markdown",
   "metadata": {},
   "source": [
    "* Sort and display the five worst-performing schools by % overall passing."
   ]
  },
  {
   "cell_type": "code",
   "execution_count": 24,
   "metadata": {},
   "outputs": [
    {
     "data": {
      "text/html": [
       "<div>\n",
       "<style scoped>\n",
       "    .dataframe tbody tr th:only-of-type {\n",
       "        vertical-align: middle;\n",
       "    }\n",
       "\n",
       "    .dataframe tbody tr th {\n",
       "        vertical-align: top;\n",
       "    }\n",
       "\n",
       "    .dataframe thead th {\n",
       "        text-align: right;\n",
       "    }\n",
       "</style>\n",
       "<table border=\"1\" class=\"dataframe\">\n",
       "  <thead>\n",
       "    <tr style=\"text-align: right;\">\n",
       "      <th></th>\n",
       "      <th>School Type</th>\n",
       "      <th>Total Students</th>\n",
       "      <th>Total School Budget</th>\n",
       "      <th>Per Student Budget</th>\n",
       "      <th>Average Maths Score</th>\n",
       "      <th>Average Reading Score</th>\n",
       "      <th>% Passing Math</th>\n",
       "      <th>% Passing Reading</th>\n",
       "      <th>% Overall Passing</th>\n",
       "    </tr>\n",
       "    <tr>\n",
       "      <th>school_name</th>\n",
       "      <th></th>\n",
       "      <th></th>\n",
       "      <th></th>\n",
       "      <th></th>\n",
       "      <th></th>\n",
       "      <th></th>\n",
       "      <th></th>\n",
       "      <th></th>\n",
       "      <th></th>\n",
       "    </tr>\n",
       "  </thead>\n",
       "  <tbody>\n",
       "    <tr>\n",
       "      <th>Hernandez High School</th>\n",
       "      <td>Government</td>\n",
       "      <td>4635</td>\n",
       "      <td>3022020</td>\n",
       "      <td>652.0</td>\n",
       "      <td>68.874865</td>\n",
       "      <td>69.186408</td>\n",
       "      <td>80.949299</td>\n",
       "      <td>81.877023</td>\n",
       "      <td>66.364617</td>\n",
       "    </tr>\n",
       "    <tr>\n",
       "      <th>Huang High School</th>\n",
       "      <td>Government</td>\n",
       "      <td>2917</td>\n",
       "      <td>1910635</td>\n",
       "      <td>655.0</td>\n",
       "      <td>68.935207</td>\n",
       "      <td>68.910525</td>\n",
       "      <td>81.693521</td>\n",
       "      <td>81.453548</td>\n",
       "      <td>66.712376</td>\n",
       "    </tr>\n",
       "    <tr>\n",
       "      <th>Johnson High School</th>\n",
       "      <td>Government</td>\n",
       "      <td>4761</td>\n",
       "      <td>3094650</td>\n",
       "      <td>650.0</td>\n",
       "      <td>68.843100</td>\n",
       "      <td>69.039277</td>\n",
       "      <td>82.062592</td>\n",
       "      <td>81.978576</td>\n",
       "      <td>67.191766</td>\n",
       "    </tr>\n",
       "    <tr>\n",
       "      <th>Wilson High School</th>\n",
       "      <td>Independent</td>\n",
       "      <td>2283</td>\n",
       "      <td>1319574</td>\n",
       "      <td>578.0</td>\n",
       "      <td>69.170828</td>\n",
       "      <td>68.876916</td>\n",
       "      <td>82.785808</td>\n",
       "      <td>81.296540</td>\n",
       "      <td>67.455103</td>\n",
       "    </tr>\n",
       "    <tr>\n",
       "      <th>Ford High School</th>\n",
       "      <td>Government</td>\n",
       "      <td>2739</td>\n",
       "      <td>1763916</td>\n",
       "      <td>644.0</td>\n",
       "      <td>69.091274</td>\n",
       "      <td>69.572472</td>\n",
       "      <td>82.438846</td>\n",
       "      <td>82.219788</td>\n",
       "      <td>67.469880</td>\n",
       "    </tr>\n",
       "  </tbody>\n",
       "</table>\n",
       "</div>"
      ],
      "text/plain": [
       "                       School Type  Total Students  Total School Budget  \\\n",
       "school_name                                                               \n",
       "Hernandez High School   Government            4635              3022020   \n",
       "Huang High School       Government            2917              1910635   \n",
       "Johnson High School     Government            4761              3094650   \n",
       "Wilson High School     Independent            2283              1319574   \n",
       "Ford High School        Government            2739              1763916   \n",
       "\n",
       "                       Per Student Budget  Average Maths Score  \\\n",
       "school_name                                                      \n",
       "Hernandez High School               652.0            68.874865   \n",
       "Huang High School                   655.0            68.935207   \n",
       "Johnson High School                 650.0            68.843100   \n",
       "Wilson High School                  578.0            69.170828   \n",
       "Ford High School                    644.0            69.091274   \n",
       "\n",
       "                       Average Reading Score  % Passing Math  \\\n",
       "school_name                                                    \n",
       "Hernandez High School              69.186408       80.949299   \n",
       "Huang High School                  68.910525       81.693521   \n",
       "Johnson High School                69.039277       82.062592   \n",
       "Wilson High School                 68.876916       82.785808   \n",
       "Ford High School                   69.572472       82.438846   \n",
       "\n",
       "                       % Passing Reading  % Overall Passing  \n",
       "school_name                                                  \n",
       "Hernandez High School          81.877023          66.364617  \n",
       "Huang High School              81.453548          66.712376  \n",
       "Johnson High School            81.978576          67.191766  \n",
       "Wilson High School             81.296540          67.455103  \n",
       "Ford High School               82.219788          67.469880  "
      ]
     },
     "execution_count": 24,
     "metadata": {},
     "output_type": "execute_result"
    }
   ],
   "source": [
    "#sort descending value stored in the % Overall Passing\n",
    "bottom_performing = top_performing.tail()\n",
    "bottom_performing = bottom_performing.sort_values('% Overall Passing')\n",
    "bottom_performing.style.format({'Total Students': '{: }', \n",
    "                       \"Total School Budget\": \"${:,.2f}\", \n",
    "                       \"Per Student Budget\": \"${:.2f}\", \n",
    "                       \"% Passing Math\": \"{:6f}\", \n",
    "                       \"% Passing Reading\": \"{:6f}\", \n",
    "                       \"% Overall Passing\": \"{:6f}\"})\n",
    "#print the first 5 rows\n",
    "bottom_performing.head()"
   ]
  },
  {
   "cell_type": "markdown",
   "metadata": {
    "collapsed": true
   },
   "source": [
    "## Maths Scores by Year"
   ]
  },
  {
   "cell_type": "markdown",
   "metadata": {},
   "source": [
    "* Create a table that lists the average maths score for students of each year level (9, 10, 11, 12) at each school.\n",
    "\n",
    "  * Create a pandas series for each year. Hint: use a conditional statement.\n",
    "  \n",
    "  * Group each series by school\n",
    "  \n",
    "  * Combine the series into a dataframe\n",
    "  \n",
    "  * Optional: give the displayed data cleaner formatting"
   ]
  },
  {
   "cell_type": "code",
   "execution_count": 25,
   "metadata": {},
   "outputs": [
    {
     "data": {
      "text/html": [
       "<div>\n",
       "<style scoped>\n",
       "    .dataframe tbody tr th:only-of-type {\n",
       "        vertical-align: middle;\n",
       "    }\n",
       "\n",
       "    .dataframe tbody tr th {\n",
       "        vertical-align: top;\n",
       "    }\n",
       "\n",
       "    .dataframe thead th {\n",
       "        text-align: right;\n",
       "    }\n",
       "</style>\n",
       "<table border=\"1\" class=\"dataframe\">\n",
       "  <thead>\n",
       "    <tr style=\"text-align: right;\">\n",
       "      <th></th>\n",
       "      <th>Year 9</th>\n",
       "      <th>Year 10</th>\n",
       "      <th>Year 11</th>\n",
       "      <th>Year 12</th>\n",
       "    </tr>\n",
       "    <tr>\n",
       "      <th>school_name</th>\n",
       "      <th></th>\n",
       "      <th></th>\n",
       "      <th></th>\n",
       "      <th></th>\n",
       "    </tr>\n",
       "  </thead>\n",
       "  <tbody>\n",
       "    <tr>\n",
       "      <th>Bailey High School</th>\n",
       "      <td>72.493827</td>\n",
       "      <td>71.897498</td>\n",
       "      <td>72.374900</td>\n",
       "      <td>72.675097</td>\n",
       "    </tr>\n",
       "    <tr>\n",
       "      <th>Cabrera High School</th>\n",
       "      <td>72.321970</td>\n",
       "      <td>72.437768</td>\n",
       "      <td>71.008299</td>\n",
       "      <td>70.604712</td>\n",
       "    </tr>\n",
       "    <tr>\n",
       "      <th>Figueroa High School</th>\n",
       "      <td>68.477804</td>\n",
       "      <td>68.331586</td>\n",
       "      <td>68.811001</td>\n",
       "      <td>69.325282</td>\n",
       "    </tr>\n",
       "    <tr>\n",
       "      <th>Ford High School</th>\n",
       "      <td>69.021609</td>\n",
       "      <td>69.387006</td>\n",
       "      <td>69.248862</td>\n",
       "      <td>68.617811</td>\n",
       "    </tr>\n",
       "    <tr>\n",
       "      <th>Griffin High School</th>\n",
       "      <td>72.789731</td>\n",
       "      <td>71.093596</td>\n",
       "      <td>71.692521</td>\n",
       "      <td>71.469178</td>\n",
       "    </tr>\n",
       "    <tr>\n",
       "      <th>Hernandez High School</th>\n",
       "      <td>68.586831</td>\n",
       "      <td>68.867156</td>\n",
       "      <td>69.154412</td>\n",
       "      <td>68.985075</td>\n",
       "    </tr>\n",
       "    <tr>\n",
       "      <th>Holden High School</th>\n",
       "      <td>70.543307</td>\n",
       "      <td>75.105263</td>\n",
       "      <td>71.640777</td>\n",
       "      <td>73.409639</td>\n",
       "    </tr>\n",
       "    <tr>\n",
       "      <th>Huang High School</th>\n",
       "      <td>69.081754</td>\n",
       "      <td>68.533246</td>\n",
       "      <td>69.431345</td>\n",
       "      <td>68.639316</td>\n",
       "    </tr>\n",
       "    <tr>\n",
       "      <th>Johnson High School</th>\n",
       "      <td>69.469286</td>\n",
       "      <td>67.990220</td>\n",
       "      <td>68.637730</td>\n",
       "      <td>69.287393</td>\n",
       "    </tr>\n",
       "    <tr>\n",
       "      <th>Pena High School</th>\n",
       "      <td>71.996364</td>\n",
       "      <td>72.396000</td>\n",
       "      <td>72.523438</td>\n",
       "      <td>71.187845</td>\n",
       "    </tr>\n",
       "    <tr>\n",
       "      <th>Rodriguez High School</th>\n",
       "      <td>71.940722</td>\n",
       "      <td>71.779808</td>\n",
       "      <td>72.364811</td>\n",
       "      <td>72.154626</td>\n",
       "    </tr>\n",
       "    <tr>\n",
       "      <th>Shelton High School</th>\n",
       "      <td>72.932075</td>\n",
       "      <td>72.506696</td>\n",
       "      <td>70.097087</td>\n",
       "      <td>72.331536</td>\n",
       "    </tr>\n",
       "    <tr>\n",
       "      <th>Thomas High School</th>\n",
       "      <td>69.234273</td>\n",
       "      <td>70.057007</td>\n",
       "      <td>69.657831</td>\n",
       "      <td>69.369822</td>\n",
       "    </tr>\n",
       "    <tr>\n",
       "      <th>Wilson High School</th>\n",
       "      <td>69.212361</td>\n",
       "      <td>69.455446</td>\n",
       "      <td>68.378965</td>\n",
       "      <td>69.787472</td>\n",
       "    </tr>\n",
       "    <tr>\n",
       "      <th>Wright High School</th>\n",
       "      <td>71.741176</td>\n",
       "      <td>72.179012</td>\n",
       "      <td>73.275862</td>\n",
       "      <td>70.848238</td>\n",
       "    </tr>\n",
       "  </tbody>\n",
       "</table>\n",
       "</div>"
      ],
      "text/plain": [
       "                          Year 9    Year 10    Year 11    Year 12\n",
       "school_name                                                      \n",
       "Bailey High School     72.493827  71.897498  72.374900  72.675097\n",
       "Cabrera High School    72.321970  72.437768  71.008299  70.604712\n",
       "Figueroa High School   68.477804  68.331586  68.811001  69.325282\n",
       "Ford High School       69.021609  69.387006  69.248862  68.617811\n",
       "Griffin High School    72.789731  71.093596  71.692521  71.469178\n",
       "Hernandez High School  68.586831  68.867156  69.154412  68.985075\n",
       "Holden High School     70.543307  75.105263  71.640777  73.409639\n",
       "Huang High School      69.081754  68.533246  69.431345  68.639316\n",
       "Johnson High School    69.469286  67.990220  68.637730  69.287393\n",
       "Pena High School       71.996364  72.396000  72.523438  71.187845\n",
       "Rodriguez High School  71.940722  71.779808  72.364811  72.154626\n",
       "Shelton High School    72.932075  72.506696  70.097087  72.331536\n",
       "Thomas High School     69.234273  70.057007  69.657831  69.369822\n",
       "Wilson High School     69.212361  69.455446  68.378965  69.787472\n",
       "Wright High School     71.741176  72.179012  73.275862  70.848238"
      ]
     },
     "execution_count": 25,
     "metadata": {},
     "output_type": "execute_result"
    }
   ],
   "source": [
    "#find the year column for 9-12 with loc function and group by the school name and calculate the average math score\n",
    "year_9 = school_data_complete.loc[school_data_complete[\"year\"] == 9].groupby([\"school_name\"])[\"maths_score\"].mean()\n",
    "year_10 = school_data_complete.loc[school_data_complete[\"year\"] == 10].groupby([\"school_name\"])[\"maths_score\"].mean()\n",
    "year_11 = school_data_complete.loc[school_data_complete[\"year\"] == 11].groupby([\"school_name\"])[\"maths_score\"].mean()\n",
    "year_12 = school_data_complete.loc[school_data_complete[\"year\"] == 12].groupby([\"school_name\"])[\"maths_score\"].mean()\n",
    "\n",
    "#store the above result in a DataFrame\n",
    "math_score_by_year = pd.DataFrame({\"Year 9\": year_9, \"Year 10\": year_10, \"Year 11\": year_11, \"Year 12\": year_12})\n",
    "math_score_by_year\n"
   ]
  },
  {
   "cell_type": "markdown",
   "metadata": {},
   "source": [
    "## Reading Score by Year"
   ]
  },
  {
   "cell_type": "markdown",
   "metadata": {},
   "source": [
    "* Perform the same operations as above for reading scores"
   ]
  },
  {
   "cell_type": "code",
   "execution_count": 26,
   "metadata": {},
   "outputs": [
    {
     "data": {
      "text/html": [
       "<div>\n",
       "<style scoped>\n",
       "    .dataframe tbody tr th:only-of-type {\n",
       "        vertical-align: middle;\n",
       "    }\n",
       "\n",
       "    .dataframe tbody tr th {\n",
       "        vertical-align: top;\n",
       "    }\n",
       "\n",
       "    .dataframe thead th {\n",
       "        text-align: right;\n",
       "    }\n",
       "</style>\n",
       "<table border=\"1\" class=\"dataframe\">\n",
       "  <thead>\n",
       "    <tr style=\"text-align: right;\">\n",
       "      <th></th>\n",
       "      <th>Year 9</th>\n",
       "      <th>Year 10</th>\n",
       "      <th>Year 11</th>\n",
       "      <th>Year 12</th>\n",
       "    </tr>\n",
       "    <tr>\n",
       "      <th>school_name</th>\n",
       "      <th></th>\n",
       "      <th></th>\n",
       "      <th></th>\n",
       "      <th></th>\n",
       "    </tr>\n",
       "  </thead>\n",
       "  <tbody>\n",
       "    <tr>\n",
       "      <th>Bailey High School</th>\n",
       "      <td>70.901920</td>\n",
       "      <td>70.848265</td>\n",
       "      <td>70.317346</td>\n",
       "      <td>72.195525</td>\n",
       "    </tr>\n",
       "    <tr>\n",
       "      <th>Cabrera High School</th>\n",
       "      <td>71.172348</td>\n",
       "      <td>71.328326</td>\n",
       "      <td>71.201245</td>\n",
       "      <td>71.856021</td>\n",
       "    </tr>\n",
       "    <tr>\n",
       "      <th>Figueroa High School</th>\n",
       "      <td>70.261682</td>\n",
       "      <td>67.677588</td>\n",
       "      <td>69.152327</td>\n",
       "      <td>69.082126</td>\n",
       "    </tr>\n",
       "    <tr>\n",
       "      <th>Ford High School</th>\n",
       "      <td>69.615846</td>\n",
       "      <td>68.988701</td>\n",
       "      <td>70.735964</td>\n",
       "      <td>68.849722</td>\n",
       "    </tr>\n",
       "    <tr>\n",
       "      <th>Griffin High School</th>\n",
       "      <td>72.026895</td>\n",
       "      <td>70.746305</td>\n",
       "      <td>72.385042</td>\n",
       "      <td>69.434932</td>\n",
       "    </tr>\n",
       "    <tr>\n",
       "      <th>Hernandez High School</th>\n",
       "      <td>68.477569</td>\n",
       "      <td>70.621842</td>\n",
       "      <td>68.418199</td>\n",
       "      <td>69.244136</td>\n",
       "    </tr>\n",
       "    <tr>\n",
       "      <th>Holden High School</th>\n",
       "      <td>71.598425</td>\n",
       "      <td>71.096491</td>\n",
       "      <td>73.310680</td>\n",
       "      <td>70.481928</td>\n",
       "    </tr>\n",
       "    <tr>\n",
       "      <th>Huang High School</th>\n",
       "      <td>68.670616</td>\n",
       "      <td>69.516297</td>\n",
       "      <td>68.740638</td>\n",
       "      <td>68.671795</td>\n",
       "    </tr>\n",
       "    <tr>\n",
       "      <th>Johnson High School</th>\n",
       "      <td>68.719286</td>\n",
       "      <td>69.295029</td>\n",
       "      <td>69.969115</td>\n",
       "      <td>67.992521</td>\n",
       "    </tr>\n",
       "    <tr>\n",
       "      <th>Pena High School</th>\n",
       "      <td>70.949091</td>\n",
       "      <td>72.324000</td>\n",
       "      <td>71.703125</td>\n",
       "      <td>71.513812</td>\n",
       "    </tr>\n",
       "    <tr>\n",
       "      <th>Rodriguez High School</th>\n",
       "      <td>70.902921</td>\n",
       "      <td>70.137500</td>\n",
       "      <td>71.424453</td>\n",
       "      <td>71.414449</td>\n",
       "    </tr>\n",
       "    <tr>\n",
       "      <th>Shelton High School</th>\n",
       "      <td>70.715094</td>\n",
       "      <td>69.879464</td>\n",
       "      <td>71.150485</td>\n",
       "      <td>69.070081</td>\n",
       "    </tr>\n",
       "    <tr>\n",
       "      <th>Thomas High School</th>\n",
       "      <td>69.672451</td>\n",
       "      <td>69.741093</td>\n",
       "      <td>70.749398</td>\n",
       "      <td>68.730769</td>\n",
       "    </tr>\n",
       "    <tr>\n",
       "      <th>Wilson High School</th>\n",
       "      <td>68.683043</td>\n",
       "      <td>68.412541</td>\n",
       "      <td>68.796327</td>\n",
       "      <td>69.888143</td>\n",
       "    </tr>\n",
       "    <tr>\n",
       "      <th>Wright High School</th>\n",
       "      <td>71.823529</td>\n",
       "      <td>71.386831</td>\n",
       "      <td>70.475862</td>\n",
       "      <td>69.821138</td>\n",
       "    </tr>\n",
       "  </tbody>\n",
       "</table>\n",
       "</div>"
      ],
      "text/plain": [
       "                          Year 9    Year 10    Year 11    Year 12\n",
       "school_name                                                      \n",
       "Bailey High School     70.901920  70.848265  70.317346  72.195525\n",
       "Cabrera High School    71.172348  71.328326  71.201245  71.856021\n",
       "Figueroa High School   70.261682  67.677588  69.152327  69.082126\n",
       "Ford High School       69.615846  68.988701  70.735964  68.849722\n",
       "Griffin High School    72.026895  70.746305  72.385042  69.434932\n",
       "Hernandez High School  68.477569  70.621842  68.418199  69.244136\n",
       "Holden High School     71.598425  71.096491  73.310680  70.481928\n",
       "Huang High School      68.670616  69.516297  68.740638  68.671795\n",
       "Johnson High School    68.719286  69.295029  69.969115  67.992521\n",
       "Pena High School       70.949091  72.324000  71.703125  71.513812\n",
       "Rodriguez High School  70.902921  70.137500  71.424453  71.414449\n",
       "Shelton High School    70.715094  69.879464  71.150485  69.070081\n",
       "Thomas High School     69.672451  69.741093  70.749398  68.730769\n",
       "Wilson High School     68.683043  68.412541  68.796327  69.888143\n",
       "Wright High School     71.823529  71.386831  70.475862  69.821138"
      ]
     },
     "execution_count": 26,
     "metadata": {},
     "output_type": "execute_result"
    }
   ],
   "source": [
    "#find the year column for 9-12 with loc function and group by the school name and calculate the average reading score\n",
    "\n",
    "year_9 = school_data_complete.loc[school_data_complete[\"year\"] == 9].groupby([\"school_name\"])[\"reading_score\"].mean()\n",
    "year_10 = school_data_complete.loc[school_data_complete[\"year\"] == 10].groupby([\"school_name\"])[\"reading_score\"].mean()\n",
    "year_11 = school_data_complete.loc[school_data_complete[\"year\"] == 11].groupby([\"school_name\"])[\"reading_score\"].mean()\n",
    "year_12 = school_data_complete.loc[school_data_complete[\"year\"] == 12].groupby([\"school_name\"])[\"reading_score\"].mean()\n",
    "\n",
    "#store the above result in a DataFrame\n",
    "read_score_by_year = pd.DataFrame({\"Year 9\": year_9, \"Year 10\": year_10, \"Year 11\": year_11, \"Year 12\": year_12})\n",
    "read_score_by_year\n"
   ]
  },
  {
   "cell_type": "markdown",
   "metadata": {},
   "source": [
    "## Scores by School Spending"
   ]
  },
  {
   "cell_type": "markdown",
   "metadata": {},
   "source": [
    "* Create a table that breaks down school performances based on average Spending Ranges (Per Student). Use 4 reasonable bins to group school spending. Include in the table each of the following:\n",
    "  * Average Maths Score\n",
    "  * Average Reading Score\n",
    "  * % Passing Maths\n",
    "  * % Passing Reading\n",
    "  * Overall Passing Rate (Average of the above two)"
   ]
  },
  {
   "cell_type": "code",
   "execution_count": 30,
   "metadata": {},
   "outputs": [
    {
     "data": {
      "text/html": [
       "<div>\n",
       "<style scoped>\n",
       "    .dataframe tbody tr th:only-of-type {\n",
       "        vertical-align: middle;\n",
       "    }\n",
       "\n",
       "    .dataframe tbody tr th {\n",
       "        vertical-align: top;\n",
       "    }\n",
       "\n",
       "    .dataframe thead th {\n",
       "        text-align: right;\n",
       "    }\n",
       "</style>\n",
       "<table border=\"1\" class=\"dataframe\">\n",
       "  <thead>\n",
       "    <tr style=\"text-align: right;\">\n",
       "      <th></th>\n",
       "      <th>Average Maths Score</th>\n",
       "      <th>Average Reading Score</th>\n",
       "      <th>% Passing Math</th>\n",
       "      <th>% Passing Reading</th>\n",
       "      <th>% Overall Passing</th>\n",
       "    </tr>\n",
       "    <tr>\n",
       "      <th>Spending Ranges (Per Student)</th>\n",
       "      <th></th>\n",
       "      <th></th>\n",
       "      <th></th>\n",
       "      <th></th>\n",
       "      <th></th>\n",
       "    </tr>\n",
       "  </thead>\n",
       "  <tbody>\n",
       "    <tr>\n",
       "      <th>&lt;$585</th>\n",
       "      <td>71.36</td>\n",
       "      <td>70.72</td>\n",
       "      <td>88.84</td>\n",
       "      <td>86.39</td>\n",
       "      <td>76.72</td>\n",
       "    </tr>\n",
       "    <tr>\n",
       "      <th>$585-630</th>\n",
       "      <td>72.07</td>\n",
       "      <td>71.03</td>\n",
       "      <td>91.52</td>\n",
       "      <td>87.29</td>\n",
       "      <td>79.88</td>\n",
       "    </tr>\n",
       "    <tr>\n",
       "      <th>$630-645</th>\n",
       "      <td>69.85</td>\n",
       "      <td>69.84</td>\n",
       "      <td>84.69</td>\n",
       "      <td>83.76</td>\n",
       "      <td>71.00</td>\n",
       "    </tr>\n",
       "    <tr>\n",
       "      <th>$645-680</th>\n",
       "      <td>68.88</td>\n",
       "      <td>69.05</td>\n",
       "      <td>81.57</td>\n",
       "      <td>81.77</td>\n",
       "      <td>66.76</td>\n",
       "    </tr>\n",
       "  </tbody>\n",
       "</table>\n",
       "</div>"
      ],
      "text/plain": [
       "                               Average Maths Score  Average Reading Score  \\\n",
       "Spending Ranges (Per Student)                                               \n",
       "<$585                                        71.36                  70.72   \n",
       "$585-630                                     72.07                  71.03   \n",
       "$630-645                                     69.85                  69.84   \n",
       "$645-680                                     68.88                  69.05   \n",
       "\n",
       "                               % Passing Math  % Passing Reading  \\\n",
       "Spending Ranges (Per Student)                                      \n",
       "<$585                                   88.84              86.39   \n",
       "$585-630                                91.52              87.29   \n",
       "$630-645                                84.69              83.76   \n",
       "$645-680                                81.57              81.77   \n",
       "\n",
       "                               % Overall Passing  \n",
       "Spending Ranges (Per Student)                     \n",
       "<$585                                      76.72  \n",
       "$585-630                                   79.88  \n",
       "$630-645                                   71.00  \n",
       "$645-680                                   66.76  "
      ]
     },
     "execution_count": 30,
     "metadata": {},
     "output_type": "execute_result"
    }
   ],
   "source": [
    "#create bins and ranges\n",
    "spending_bins = [0, 585, 630, 645, 680]\n",
    "spending_ranges = [\"<$585\", \"$585-630\",\"$630-645\",\"$645-680\"]\n",
    "\n",
    "#insert the new column\n",
    "school_summary_df[\"Spending Ranges (Per Student)\"] = pd.cut(school_summary_df[\"Per Student Budget\"], spending_bins, labels=spending_ranges)\n",
    "\n",
    "#group by the new column\n",
    "grouped_spend_df = school_summary_df.groupby(\"Spending Ranges (Per Student)\")              \n",
    "\n",
    "#calculate the average\n",
    "spending_summary_df = grouped_spend_df.mean(numeric_only=True)\n",
    "\n",
    "#round the result\n",
    "round_spending_summary_df = spending_summary_df.round(2)\n",
    "\n",
    "#arranging the table\n",
    "round_spending_summary_df[[\"Average Maths Score\",\n",
    "                    \"Average Reading Score\",\n",
    "                    \"% Passing Math\",\n",
    "                    \"% Passing Reading\",\n",
    "                    \"% Overall Passing\"]]\n"
   ]
  },
  {
   "cell_type": "markdown",
   "metadata": {},
   "source": [
    "## Scores by School Size"
   ]
  },
  {
   "cell_type": "markdown",
   "metadata": {},
   "source": [
    "* Perform the same operations as above, based on school size."
   ]
  },
  {
   "cell_type": "code",
   "execution_count": 28,
   "metadata": {
    "scrolled": true
   },
   "outputs": [
    {
     "data": {
      "text/html": [
       "<div>\n",
       "<style scoped>\n",
       "    .dataframe tbody tr th:only-of-type {\n",
       "        vertical-align: middle;\n",
       "    }\n",
       "\n",
       "    .dataframe tbody tr th {\n",
       "        vertical-align: top;\n",
       "    }\n",
       "\n",
       "    .dataframe thead th {\n",
       "        text-align: right;\n",
       "    }\n",
       "</style>\n",
       "<table border=\"1\" class=\"dataframe\">\n",
       "  <thead>\n",
       "    <tr style=\"text-align: right;\">\n",
       "      <th></th>\n",
       "      <th>Average Maths Score</th>\n",
       "      <th>Average Reading Score</th>\n",
       "      <th>% Passing Math</th>\n",
       "      <th>% Passing Reading</th>\n",
       "      <th>% Overall Passing</th>\n",
       "    </tr>\n",
       "    <tr>\n",
       "      <th>School_Size</th>\n",
       "      <th></th>\n",
       "      <th></th>\n",
       "      <th></th>\n",
       "      <th></th>\n",
       "      <th></th>\n",
       "    </tr>\n",
       "  </thead>\n",
       "  <tbody>\n",
       "    <tr>\n",
       "      <th>Small (&lt;1000)</th>\n",
       "      <td>72.335748</td>\n",
       "      <td>71.636864</td>\n",
       "      <td>90.806867</td>\n",
       "      <td>87.557513</td>\n",
       "      <td>79.066348</td>\n",
       "    </tr>\n",
       "    <tr>\n",
       "      <th>Medium (1000-2000)</th>\n",
       "      <td>71.421650</td>\n",
       "      <td>70.720164</td>\n",
       "      <td>89.846560</td>\n",
       "      <td>86.714149</td>\n",
       "      <td>78.039785</td>\n",
       "    </tr>\n",
       "    <tr>\n",
       "      <th>Large (2000-5000)</th>\n",
       "      <td>69.751809</td>\n",
       "      <td>69.576052</td>\n",
       "      <td>84.252804</td>\n",
       "      <td>83.301185</td>\n",
       "      <td>70.293507</td>\n",
       "    </tr>\n",
       "  </tbody>\n",
       "</table>\n",
       "</div>"
      ],
      "text/plain": [
       "                    Average Maths Score  Average Reading Score  \\\n",
       "School_Size                                                      \n",
       "Small (<1000)                 72.335748              71.636864   \n",
       "Medium (1000-2000)            71.421650              70.720164   \n",
       "Large (2000-5000)             69.751809              69.576052   \n",
       "\n",
       "                    % Passing Math  % Passing Reading  % Overall Passing  \n",
       "School_Size                                                               \n",
       "Small (<1000)            90.806867          87.557513          79.066348  \n",
       "Medium (1000-2000)       89.846560          86.714149          78.039785  \n",
       "Large (2000-5000)        84.252804          83.301185          70.293507  "
      ]
     },
     "execution_count": 28,
     "metadata": {},
     "output_type": "execute_result"
    }
   ],
   "source": [
    "#create bins and ranges\n",
    "size_bins = [0, 1000, 2000, 5000]\n",
    "size_ranges = [\"Small (<1000)\", \"Medium (1000-2000)\",\"Large (2000-5000)\"]\n",
    "\n",
    "#insert the new column\n",
    "school_summary_df[\"School_Size\"] = pd.cut(school_summary_df[\"Total Students\"],size_bins, labels = size_ranges)\n",
    "\n",
    "#group by the new column\n",
    "group_size_df = school_summary_df.groupby(\"School_Size\")\n",
    "\n",
    "#calculate the average\n",
    "size_summary_df = group_size_df.mean(numeric_only=True)\n",
    "\n",
    "#round the result\n",
    "round_size_summary_df = size_summary_df.round(6)\n",
    "\n",
    "#arranging the table\n",
    "round_size_summary_df[[\"Average Maths Score\",\n",
    "                    \"Average Reading Score\",\n",
    "                    \"% Passing Math\",\n",
    "                    \"% Passing Reading\",\n",
    "                    \"% Overall Passing\"]]\n"
   ]
  },
  {
   "cell_type": "markdown",
   "metadata": {},
   "source": [
    "## Scores by School Type"
   ]
  },
  {
   "cell_type": "markdown",
   "metadata": {},
   "source": [
    "* Perform the same operations as above, based on school type"
   ]
  },
  {
   "cell_type": "code",
   "execution_count": 29,
   "metadata": {},
   "outputs": [
    {
     "data": {
      "text/html": [
       "<div>\n",
       "<style scoped>\n",
       "    .dataframe tbody tr th:only-of-type {\n",
       "        vertical-align: middle;\n",
       "    }\n",
       "\n",
       "    .dataframe tbody tr th {\n",
       "        vertical-align: top;\n",
       "    }\n",
       "\n",
       "    .dataframe thead th {\n",
       "        text-align: right;\n",
       "    }\n",
       "</style>\n",
       "<table border=\"1\" class=\"dataframe\">\n",
       "  <thead>\n",
       "    <tr style=\"text-align: right;\">\n",
       "      <th></th>\n",
       "      <th>Average Maths Score</th>\n",
       "      <th>Average Reading Score</th>\n",
       "      <th>% Passing Math</th>\n",
       "      <th>% Passing Reading</th>\n",
       "      <th>% Overall Passing</th>\n",
       "    </tr>\n",
       "    <tr>\n",
       "      <th>School Type</th>\n",
       "      <th></th>\n",
       "      <th></th>\n",
       "      <th></th>\n",
       "      <th></th>\n",
       "      <th></th>\n",
       "    </tr>\n",
       "  </thead>\n",
       "  <tbody>\n",
       "    <tr>\n",
       "      <th>Government</th>\n",
       "      <td>69.834806</td>\n",
       "      <td>69.675929</td>\n",
       "      <td>84.462375</td>\n",
       "      <td>83.587562</td>\n",
       "      <td>70.698993</td>\n",
       "    </tr>\n",
       "    <tr>\n",
       "      <th>Independent</th>\n",
       "      <td>71.368822</td>\n",
       "      <td>70.718933</td>\n",
       "      <td>89.204043</td>\n",
       "      <td>86.247789</td>\n",
       "      <td>76.973340</td>\n",
       "    </tr>\n",
       "  </tbody>\n",
       "</table>\n",
       "</div>"
      ],
      "text/plain": [
       "             Average Maths Score  Average Reading Score  % Passing Math  \\\n",
       "School Type                                                               \n",
       "Government             69.834806              69.675929       84.462375   \n",
       "Independent            71.368822              70.718933       89.204043   \n",
       "\n",
       "             % Passing Reading  % Overall Passing  \n",
       "School Type                                        \n",
       "Government           83.587562          70.698993  \n",
       "Independent          86.247789          76.973340  "
      ]
     },
     "execution_count": 29,
     "metadata": {},
     "output_type": "execute_result"
    }
   ],
   "source": [
    "#group by the new column\n",
    "group_type_df = school_summary_df.groupby(\"School Type\")\n",
    "\n",
    "#calculate the average\n",
    "type_summary_df = group_type_df.mean(numeric_only=True)\n",
    "\n",
    "#arranging the table\n",
    "type_summary_df[[\"Average Maths Score\",\n",
    "                    \"Average Reading Score\",\n",
    "                    \"% Passing Math\",\n",
    "                    \"% Passing Reading\",\n",
    "                    \"% Overall Passing\"]]\n"
   ]
  },
  {
   "cell_type": "code",
   "execution_count": null,
   "metadata": {},
   "outputs": [],
   "source": []
  }
 ],
 "metadata": {
  "anaconda-cloud": {},
  "kernel_info": {
   "name": "python3"
  },
  "kernelspec": {
   "display_name": "Python 3 (ipykernel)",
   "language": "python",
   "name": "python3"
  },
  "language_info": {
   "codemirror_mode": {
    "name": "ipython",
    "version": 3
   },
   "file_extension": ".py",
   "mimetype": "text/x-python",
   "name": "python",
   "nbconvert_exporter": "python",
   "pygments_lexer": "ipython3",
   "version": "3.10.11"
  },
  "latex_envs": {
   "LaTeX_envs_menu_present": true,
   "autoclose": false,
   "autocomplete": true,
   "bibliofile": "biblio.bib",
   "cite_by": "apalike",
   "current_citInitial": 1,
   "eqLabelWithNumbers": true,
   "eqNumInitial": 1,
   "hotkeys": {
    "equation": "Ctrl-E",
    "itemize": "Ctrl-I"
   },
   "labels_anchors": false,
   "latex_user_defs": false,
   "report_style_numbering": false,
   "user_envs_cfg": false
  },
  "nteract": {
   "version": "0.8.4"
  }
 },
 "nbformat": 4,
 "nbformat_minor": 1
}
